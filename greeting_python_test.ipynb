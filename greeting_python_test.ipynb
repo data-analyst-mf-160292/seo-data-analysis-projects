{
 "cells": [
  {
   "cell_type": "code",
   "execution_count": null,
   "metadata": {},
   "outputs": [],
   "source": [
    "import chime\n",
    "\n",
    "chime.themes()\n",
    "chime.theme('mario')\n",
    "\n",
    "chime.info()\n",
    "\n",
    "while True:\n",
    "\n",
    "    greeting_question = input('Hello, space cadet! How do you feel today? Answer either \\\"Yes\\\" or \\\"No\\\".')\n",
    "\n",
    "    if greeting_question == 'Yes':\n",
    "        print('Wonderful, may the Force be with you!\\n\\nLet\\'s focus now. Have a wonderful day!')\n",
    "        chime.success()\n",
    "        break\n",
    "    \n",
    "    elif  greeting_question == 'No':\n",
    "        print('Don\\'t give up, you can do it!')\n",
    "        chime.warning()\n",
    "        break\n",
    "\n",
    "    else:\n",
    "        print('Rispondi con un \\\"Sì\\\" o un \\\"No\\\"!')\n",
    "        chime.error()\n",
    "        continue"
   ]
  }
 ],
 "metadata": {
  "kernelspec": {
   "display_name": "venv",
   "language": "python",
   "name": "python3"
  },
  "language_info": {
   "codemirror_mode": {
    "name": "ipython",
    "version": 3
   },
   "file_extension": ".py",
   "mimetype": "text/x-python",
   "name": "python",
   "nbconvert_exporter": "python",
   "pygments_lexer": "ipython3",
   "version": "3.12.3"
  }
 },
 "nbformat": 4,
 "nbformat_minor": 2
}
