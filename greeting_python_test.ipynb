{
 "cells": [
  {
   "cell_type": "code",
   "execution_count": null,
   "metadata": {},
   "outputs": [],
   "source": [
    "greeting_question = input('Hello, space cadet! Are you feeling good? Write either \\\"Yes\\\" or \\\"No\\\".')\n",
    "\n",
    "if greeting_question == 'Yes':\n",
    "    print('Wonderful, may the Force be with you!')\n",
    "    \n",
    "elif  greeting_question == 'No':\n",
    "    print('Don\\'t give up, you can do it!')\n",
    "\n",
    "else:\n",
    "    print('Rispondi con un \\\"Sì\\\" o un \\\"No\\\"!')\n",
    "\n",
    "print('Let\\'s focus now. Have a wonderful day!')"
   ]
  }
 ],
 "metadata": {
  "kernelspec": {
   "display_name": "Python 3",
   "language": "python",
   "name": "python3"
  },
  "language_info": {
   "codemirror_mode": {
    "name": "ipython",
    "version": 3
   },
   "file_extension": ".py",
   "mimetype": "text/x-python",
   "name": "python",
   "nbconvert_exporter": "python",
   "pygments_lexer": "ipython3",
   "version": "3.12.3"
  }
 },
 "nbformat": 4,
 "nbformat_minor": 2
}
