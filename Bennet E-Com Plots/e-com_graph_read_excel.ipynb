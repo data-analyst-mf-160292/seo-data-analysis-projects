{
 "cells": [
  {
   "cell_type": "code",
   "execution_count": null,
   "metadata": {},
   "outputs": [],
   "source": [
    "import pandas as pd\n",
    "import matplotlib.pyplot as plt\n",
    "import plotly.express as px\n",
    "\n",
    "df = pd.read_excel('C:/Users/marco.ferracci/OneDrive - Alkemy Spa/File di Lavoro/Data Analysis Projects/seo-data-analysis-projects/Bennet E-Com Plots/bennet ecom data.xlsx')\n",
    "df"
   ]
  },
  {
   "cell_type": "code",
   "execution_count": null,
   "metadata": {},
   "outputs": [],
   "source": [
    "print(df.to_string())"
   ]
  },
  {
   "cell_type": "code",
   "execution_count": null,
   "metadata": {},
   "outputs": [],
   "source": [
    "# Example of basic data visualization using matplotlib\n",
    "\n",
    "plt.figure(figsize=(12,4))\n",
    "\n",
    "plt.plot(df['Month'], df['Click'], label='Organic Clicks', linestyle = '-', linewidth = '1.25', color = 'grey' , marker = 'o', ms = 5, mfc='cyan', mec = 'black')\n",
    "plt.plot()\n",
    "\n",
    "plt.title('Organic Traffic', loc = 'center')\n",
    "\n",
    "plt.xlabel('Month')\n",
    "plt.xticks(rotation=45) # Rotate x-axis labels\n",
    "\n",
    "plt.ylabel('Clicks')\n",
    "plt.ylim(0,125000) # ylim sets the y-axis range of the plot; in this case, we set the y-start as 0 and y-end as 125000 to suit data contained within the dataframe\n",
    "\n",
    "plt.legend()\n",
    "plt.grid(axis = 'x', linestyle = '-', linewidth = 1) # True is default for x and y axis based grid\n",
    "\n",
    "# plt.suptitle(\"Bennet E-Commerce\") # Useful when using subplots\n",
    "plt.show()"
   ]
  },
  {
   "cell_type": "code",
   "execution_count": null,
   "metadata": {},
   "outputs": [],
   "source": [
    "# Example of interactive plot using Plotly Express - TO BE REVIEWED\n",
    "\n",
    "fig = px.line(df, x='Month', y='Click', width=1000, height=400)\n",
    "\n",
    "fig.update_layout(\n",
    "    title='Organic Traffic',\n",
    "    title_font=dict(size=16, color='black'),\n",
    "    xaxis_title='Month',\n",
    "    xaxis=dict(color='black', tickangle=-45), # Rotate x-axis labels\n",
    "    yaxis_title='Organic Clicks',\n",
    "    yaxis=dict(color='black'),\n",
    "    yaxis_range=[0,125000], # Sets the y-axis range of the plot; in this case, we set the y-start as 0 and y-end as 125000 to suit data contained within the dataframe\n",
    "    hovermode=\"x unified\", # Sets the layout of the popups when hovering on data within the plot\n",
    "    margin=dict(l=50, r=50, b=50, t=50, pad=0),  # Sets left-, right-, bottom-, and top-margins, then the padding\n",
    "    # plot_bgcolor='white',  # Sets the background-color of the plotting area\n",
    "    paper_bgcolor='white',  # Sets the background-color of the background\n",
    "    )\n",
    "\n",
    "# The following line of code prevents from displaying digits after a comma, and removes the K (from greek: kilo = thousands) abbreviation as well:\n",
    "fig.update_yaxes(tickformat='.0f') \n",
    "# alternative: tickformat = 'linear'\n",
    "\n",
    "fig.update_traces(mode=\"markers+lines\", hovertemplate=None)\n",
    "\n",
    "fig.show()"
   ]
  }
 ],
 "metadata": {
  "kernelspec": {
   "display_name": "venv",
   "language": "python",
   "name": "python3"
  },
  "language_info": {
   "codemirror_mode": {
    "name": "ipython",
    "version": 3
   },
   "file_extension": ".py",
   "mimetype": "text/x-python",
   "name": "python",
   "nbconvert_exporter": "python",
   "pygments_lexer": "ipython3",
   "version": "3.12.3"
  }
 },
 "nbformat": 4,
 "nbformat_minor": 2
}
