{
 "cells": [
  {
   "cell_type": "code",
   "execution_count": null,
   "metadata": {},
   "outputs": [],
   "source": [
    "import pandas as pd \n",
    "import matplotlib.pyplot as plt\n",
    "from bokeh.plotting import figure, show, output_file\n",
    "import plotly.express as px\n",
    "\n",
    "df = pd.read_excel('C:/Users/marco.ferracci/OneDrive - Alkemy Spa/File di Lavoro/Data Analysis Projects/seo-data-analysis-projects/bennet ecom data.xlsx')\n",
    "\n",
    "df.head(15)"
   ]
  },
  {
   "cell_type": "code",
   "execution_count": null,
   "metadata": {},
   "outputs": [],
   "source": [
    "# Example of basic data visualization using matplotlib\n",
    "\n",
    "plt.figure(figsize=(12,4))\n",
    "plt.plot(df['Mese di Riferimento'], df['Click Totali E-Com'], label='Organic Traffic per Month')\n",
    "plt.title('Organic Traffic Bennet E-Com')\n",
    "plt.xlabel('Month')\n",
    "plt.xticks(rotation=45)\n",
    "plt.ylabel('Organic Clicks')\n",
    "plt.legend()\n",
    "plt.grid(False)\n",
    "plt.show()"
   ]
  },
  {
   "cell_type": "code",
   "execution_count": null,
   "metadata": {},
   "outputs": [],
   "source": [
    "# Example of interactive plot using Bokeh - TO BE REVIEWED\n",
    "\n",
    "bokeh_plot(df):\n",
    "output_file(\"bokeh_plot.html\")  # Outputs to HTML file for interactive viewing\n",
    "p = figure(title=\"Bokeh Plot\", x_axis_label='Column1', y_axis_label='Column2')\n",
    "p.line(df['Column1'], df['Column2'], legend_label=\"Line\", line_width=2)\n",
    "show(p)"
   ]
  },
  {
   "cell_type": "code",
   "execution_count": null,
   "metadata": {},
   "outputs": [],
   "source": [
    "# Example of interactive plot using Plotly Express - TO BE REVIEWED\n",
    "\n",
    "plotly_plot(df):\n",
    "fig = px.line(df, x='Column1', y='Column2', title='Plotly Line Plot')\n",
    "fig.show()"
   ]
  }
 ],
 "metadata": {
  "kernelspec": {
   "display_name": "venv",
   "language": "python",
   "name": "python3"
  },
  "language_info": {
   "codemirror_mode": {
    "name": "ipython",
    "version": 3
   },
   "file_extension": ".py",
   "mimetype": "text/x-python",
   "name": "python",
   "nbconvert_exporter": "python",
   "pygments_lexer": "ipython3",
   "version": "3.12.3"
  }
 },
 "nbformat": 4,
 "nbformat_minor": 2
}
