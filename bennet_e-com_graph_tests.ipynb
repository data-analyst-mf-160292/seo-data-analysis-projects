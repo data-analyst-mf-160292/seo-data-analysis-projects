{
 "cells": [
  {
   "cell_type": "code",
   "execution_count": null,
   "metadata": {},
   "outputs": [],
   "source": [
    "import pandas as pd\n",
    "import matplotlib.pyplot as plt\n",
    "import plotly.express as px\n",
    "\n",
    "df = pd.read_excel('C:/Users/marco.ferracci/OneDrive - Alkemy Spa/File di Lavoro/Data Analysis Projects/seo-data-analysis-projects/bennet ecom data.xlsx')\n",
    "df"
   ]
  },
  {
   "cell_type": "code",
   "execution_count": null,
   "metadata": {},
   "outputs": [],
   "source": [
    "print(df.to_string())"
   ]
  },
  {
   "cell_type": "code",
   "execution_count": null,
   "metadata": {},
   "outputs": [],
   "source": [
    "# Example of basic data visualization using matplotlib\n",
    "\n",
    "plt.figure(figsize=(12,4))\n",
    "\n",
    "plt.plot(df['Mese di Riferimento'], df['Click Totali E-Com'], label='Organic Click Trend', linestyle = '-', linewidth = '1.25', color = 'grey' , marker = 'o', ms = 5, mfc='black', mec = 'orange')\n",
    "plt.plot()\n",
    "\n",
    "plt.title('Organic Traffic', loc = 'center')\n",
    "\n",
    "plt.xlabel('Month')\n",
    "plt.xticks(rotation=45) # Rotate x-axis labels\n",
    "\n",
    "plt.ylabel('Organic Clicks')\n",
    "\n",
    "plt.legend()\n",
    "plt.grid(axis = 'x', linestyle = '-', linewidth = 1) # True is default for x and y axis based grid\n",
    "\n",
    "# plt.suptitle(\"Bennet E-Commerce\") # Useful when using subplots\n",
    "plt.show()"
   ]
  },
  {
   "cell_type": "code",
   "execution_count": null,
   "metadata": {},
   "outputs": [],
   "source": [
    "# Example of interactive plot using Plotly Express - TO BE REVIEWED\n",
    "\n",
    "fig = px.line(df, x='Mese di Riferimento', y='Click Totali E-Com', title='Organic Traffic')\n",
    "'''\n",
    "title='Organic Traffic',\n",
    "xaxis_title='Month',\n",
    "yaxis_title='Organic Clicks',\n",
    "title_font=dict(size=20, color='black'),\n",
    "xaxis=dict(tickangle=45), # Rotate x-axis labels\n",
    "yaxis=dict(title='Organic Clicks', color='green'),\n",
    "margin=dict(l=50, r=50, b=50, t=50, pad=4),  # Left, Right, Bottom, Top margins\n",
    "paper_bgcolor='lightgray',  # Background of the entire plot\n",
    "plot_bgcolor='white'  # Background of the plotting area\n",
    "'''\n",
    "\n",
    "fig.show()"
   ]
  }
 ],
 "metadata": {
  "kernelspec": {
   "display_name": "venv",
   "language": "python",
   "name": "python3"
  },
  "language_info": {
   "codemirror_mode": {
    "name": "ipython",
    "version": 3
   },
   "file_extension": ".py",
   "mimetype": "text/x-python",
   "name": "python",
   "nbconvert_exporter": "python",
   "pygments_lexer": "ipython3",
   "version": "3.12.3"
  }
 },
 "nbformat": 4,
 "nbformat_minor": 2
}
